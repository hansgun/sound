{
 "cells": [
  {
   "cell_type": "code",
   "execution_count": 2,
   "id": "lyric-volunteer",
   "metadata": {
    "ExecuteTime": {
     "end_time": "2021-04-01T07:09:10.116479Z",
     "start_time": "2021-04-01T07:08:57.999790Z"
    }
   },
   "outputs": [
    {
     "name": "stdout",
     "output_type": "stream",
     "text": [
      "텐서플로 버전: 2.4.1\n",
      "즉시 실행: True\n"
     ]
    }
   ],
   "source": [
    "import os\n",
    "import matplotlib.pyplot as plt\n",
    "import tensorflow as tf\n",
    "\n",
    "print(\"텐서플로 버전: {}\".format(tf.__version__))\n",
    "print(\"즉시 실행: {}\".format(tf.executing_eagerly()))"
   ]
  },
  {
   "cell_type": "code",
   "execution_count": 4,
   "id": "soviet-zealand",
   "metadata": {
    "ExecuteTime": {
     "end_time": "2021-04-01T07:09:31.971289Z",
     "start_time": "2021-04-01T07:09:31.501156Z"
    }
   },
   "outputs": [
    {
     "name": "stdout",
     "output_type": "stream",
     "text": [
      "Downloading data from https://storage.googleapis.com/download.tensorflow.org/data/iris_training.csv\n",
      "8192/2194 [================================================================================================================] - 0s 0us/step\n",
      "데이터셋이 복사된 위치: /Users/han/.keras/datasets/iris_training.csv\n"
     ]
    }
   ],
   "source": [
    "train_dataset_url = \"https://storage.googleapis.com/download.tensorflow.org/data/iris_training.csv\"\n",
    "\n",
    "train_dataset_fp = tf.keras.utils.get_file(fname=os.path.basename(train_dataset_url),\n",
    "                                           origin=train_dataset_url)\n",
    "\n",
    "print(\"데이터셋이 복사된 위치: {}\".format(train_dataset_fp))"
   ]
  },
  {
   "cell_type": "code",
   "execution_count": 6,
   "id": "computational-valve",
   "metadata": {
    "ExecuteTime": {
     "end_time": "2021-04-01T07:09:51.747163Z",
     "start_time": "2021-04-01T07:09:51.741895Z"
    }
   },
   "outputs": [
    {
     "name": "stdout",
     "output_type": "stream",
     "text": [
      "특성: ['sepal_length', 'sepal_width', 'petal_length', 'petal_width']\n",
      "레이블: species\n"
     ]
    }
   ],
   "source": [
    "# CSV 파일안에서 컬럼의 순서\n",
    "column_names = ['sepal_length', 'sepal_width', 'petal_length', 'petal_width', 'species']\n",
    "\n",
    "feature_names = column_names[:-1]\n",
    "label_name = column_names[-1]\n",
    "\n",
    "print(\"특성: {}\".format(feature_names))\n",
    "print(\"레이블: {}\".format(label_name))"
   ]
  },
  {
   "cell_type": "code",
   "execution_count": 7,
   "id": "fundamental-scott",
   "metadata": {
    "ExecuteTime": {
     "end_time": "2021-04-01T07:09:52.584551Z",
     "start_time": "2021-04-01T07:09:52.506154Z"
    }
   },
   "outputs": [],
   "source": [
    "batch_size = 32\n",
    "\n",
    "train_dataset = tf.data.experimental.make_csv_dataset(\n",
    "    train_dataset_fp,\n",
    "    batch_size,\n",
    "    column_names=column_names,\n",
    "    label_name=label_name,\n",
    "    num_epochs=1)"
   ]
  },
  {
   "cell_type": "code",
   "execution_count": 8,
   "id": "latest-collapse",
   "metadata": {
    "ExecuteTime": {
     "end_time": "2021-04-01T07:10:02.221003Z",
     "start_time": "2021-04-01T07:10:02.216977Z"
    }
   },
   "outputs": [],
   "source": [
    "class_names = ['Iris setosa', 'Iris versicolor', 'Iris virginica']"
   ]
  },
  {
   "cell_type": "code",
   "execution_count": 9,
   "id": "central-american",
   "metadata": {
    "ExecuteTime": {
     "end_time": "2021-04-01T07:10:10.261998Z",
     "start_time": "2021-04-01T07:10:10.214710Z"
    }
   },
   "outputs": [],
   "source": [
    "batch_size = 32\n",
    "\n",
    "train_dataset = tf.data.experimental.make_csv_dataset(\n",
    "    train_dataset_fp,\n",
    "    batch_size,\n",
    "    column_names=column_names,\n",
    "    label_name=label_name,\n",
    "    num_epochs=1)"
   ]
  },
  {
   "cell_type": "code",
   "execution_count": 10,
   "id": "delayed-pathology",
   "metadata": {
    "ExecuteTime": {
     "end_time": "2021-04-01T07:10:19.579319Z",
     "start_time": "2021-04-01T07:10:19.540876Z"
    }
   },
   "outputs": [
    {
     "name": "stdout",
     "output_type": "stream",
     "text": [
      "OrderedDict([('sepal_length', <tf.Tensor: shape=(32,), dtype=float32, numpy=\n",
      "array([4.9, 5.1, 6.7, 5. , 6.2, 5.3, 6.6, 5. , 6.4, 6.1, 6.4, 4.8, 6. ,\n",
      "       6.8, 5.1, 5.4, 5.8, 4.4, 6.7, 6. , 7.7, 7.7, 5.5, 5.2, 5.8, 6.4,\n",
      "       7.9, 5.1, 5.7, 6.8, 7. , 5.6], dtype=float32)>), ('sepal_width', <tf.Tensor: shape=(32,), dtype=float32, numpy=\n",
      "array([3.1, 3.8, 3. , 3.4, 2.8, 3.7, 3. , 3.5, 3.1, 3. , 2.7, 3. , 2.2,\n",
      "       3.2, 2.5, 3.7, 2.7, 3.2, 3. , 2.7, 3. , 2.8, 2.4, 3.4, 2.8, 3.2,\n",
      "       3.8, 3.8, 4.4, 2.8, 3.2, 2.9], dtype=float32)>), ('petal_length', <tf.Tensor: shape=(32,), dtype=float32, numpy=\n",
      "array([1.5, 1.9, 5. , 1.5, 4.8, 1.5, 4.4, 1.6, 5.5, 4.9, 5.3, 1.4, 5. ,\n",
      "       5.9, 3. , 1.5, 5.1, 1.3, 5.2, 5.1, 6.1, 6.7, 3.7, 1.4, 5.1, 4.5,\n",
      "       6.4, 1.5, 1.5, 4.8, 4.7, 3.6], dtype=float32)>), ('petal_width', <tf.Tensor: shape=(32,), dtype=float32, numpy=\n",
      "array([0.1, 0.4, 1.7, 0.2, 1.8, 0.2, 1.4, 0.6, 1.8, 1.8, 1.9, 0.1, 1.5,\n",
      "       2.3, 1.1, 0.2, 1.9, 0.2, 2.3, 1.6, 2.3, 2. , 1. , 0.2, 2.4, 1.5,\n",
      "       2. , 0.3, 0.4, 1.4, 1.4, 1.3], dtype=float32)>)])\n"
     ]
    }
   ],
   "source": [
    "features, labels = next(iter(train_dataset))\n",
    "\n",
    "print(features)"
   ]
  },
  {
   "cell_type": "code",
   "execution_count": 11,
   "id": "dedicated-longitude",
   "metadata": {
    "ExecuteTime": {
     "end_time": "2021-04-01T07:10:38.797854Z",
     "start_time": "2021-04-01T07:10:38.575770Z"
    }
   },
   "outputs": [
    {
     "data": {
      "image/png": "[encoded data removed]",
      "text/plain": [
       "<Figure size 432x288 with 1 Axes>"
      ]
     },
     "metadata": {
      "needs_background": "light"
     },
     "output_type": "display_data"
    }
   ],
   "source": [
    "plt.scatter(features['petal_length'],\n",
    "            features['sepal_length'],\n",
    "            c=labels,\n",
    "            cmap='viridis')\n",
    "\n",
    "plt.xlabel(\"Petal length\")\n",
    "plt.ylabel(\"Sepal length\")\n",
    "plt.show()"
   ]
  },
  {
   "cell_type": "code",
   "execution_count": 12,
   "id": "critical-spouse",
   "metadata": {
    "ExecuteTime": {
     "end_time": "2021-04-01T07:10:46.771795Z",
     "start_time": "2021-04-01T07:10:46.768190Z"
    }
   },
   "outputs": [],
   "source": [
    "def pack_features_vector(features, labels):\n",
    "  \"\"\"특성들을 단일 배열로 묶습니다.\"\"\"\n",
    "  features = tf.stack(list(features.values()), axis=1)\n",
    "  return features, labels"
   ]
  },
  {
   "cell_type": "code",
   "execution_count": 13,
   "id": "pending-venezuela",
   "metadata": {
    "ExecuteTime": {
     "end_time": "2021-04-01T07:11:06.664547Z",
     "start_time": "2021-04-01T07:11:06.488760Z"
    }
   },
   "outputs": [
    {
     "name": "stdout",
     "output_type": "stream",
     "text": [
      "tf.Tensor(\n",
      "[[4.9 3.1 1.5 0.1]\n",
      " [5.  2.3 3.3 1. ]\n",
      " [6.3 2.3 4.4 1.3]\n",
      " [7.6 3.  6.6 2.1]\n",
      " [4.9 3.  1.4 0.2]], shape=(5, 4), dtype=float32)\n"
     ]
    }
   ],
   "source": [
    "train_dataset = train_dataset.map(pack_features_vector)\n",
    "\n",
    "features, labels = next(iter(train_dataset))\n",
    "\n",
    "print(features[:5])"
   ]
  },
  {
   "cell_type": "code",
   "execution_count": null,
   "id": "robust-script",
   "metadata": {},
   "outputs": [],
   "source": []
  }
 ],
 "metadata": {
  "kernelspec": {
   "display_name": "Python 3",
   "language": "python",
   "name": "python3"
  },
  "language_info": {
   "codemirror_mode": {
    "name": "ipython",
    "version": 3
   },
   "file_extension": ".py",
   "mimetype": "text/x-python",
   "name": "python",
   "nbconvert_exporter": "python",
   "pygments_lexer": "ipython3",
   "version": "3.6.9"
  },
  "toc": {
   "base_numbering": 1,
   "nav_menu": {},
   "number_sections": true,
   "sideBar": true,
   "skip_h1_title": false,
   "title_cell": "Table of Contents",
   "title_sidebar": "Contents",
   "toc_cell": false,
   "toc_position": {},
   "toc_section_display": true,
   "toc_window_display": false
  }
 },
 "nbformat": 4,
 "nbformat_minor": 5
}
