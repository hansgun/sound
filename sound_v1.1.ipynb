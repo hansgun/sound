{
 "cells": [
  {
   "cell_type": "markdown",
   "metadata": {
    "id": "o9gMT-xLHhA4"
   },
   "source": [
    "## 0.PRE"
   ]
  },
  {
   "cell_type": "code",
   "execution_count": 1,
   "metadata": {
    "ExecuteTime": {
     "end_time": "2021-03-30T02:26:55.087775Z",
     "start_time": "2021-03-30T02:26:54.957748Z"
    }
   },
   "outputs": [
    {
     "name": "stdout",
     "output_type": "stream",
     "text": [
      "Python 3.6.9\r\n"
     ]
    }
   ],
   "source": [
    "!python -V"
   ]
  },
  {
   "cell_type": "code",
   "execution_count": 2,
   "metadata": {
    "ExecuteTime": {
     "end_time": "2021-03-30T02:26:55.153794Z",
     "start_time": "2021-03-30T02:26:55.150167Z"
    }
   },
   "outputs": [],
   "source": [
    "from IPython.core.interactiveshell import InteractiveShell\n",
    "InteractiveShell.ast_node_interactivity = \"all\""
   ]
  },
  {
   "cell_type": "code",
   "execution_count": 3,
   "metadata": {
    "ExecuteTime": {
     "end_time": "2021-03-30T02:26:56.776446Z",
     "start_time": "2021-03-30T02:26:55.569057Z"
    },
    "id": "B_xgz9cjZsJF"
   },
   "outputs": [],
   "source": [
    "import pandas as pd\n",
    "import numpy as np\n",
    "import matplotlib.pyplot as plt\n",
    "from scipy import signal\n",
    "from scipy.io import wavfile\n",
    "import math"
   ]
  },
  {
   "cell_type": "markdown",
   "metadata": {
    "id": "ujDq00e_HqqG"
   },
   "source": [
    "### mount google drive"
   ]
  },
  {
   "cell_type": "code",
   "execution_count": 4,
   "metadata": {
    "ExecuteTime": {
     "end_time": "2021-03-30T02:26:56.920971Z",
     "start_time": "2021-03-30T02:26:56.916846Z"
    },
    "id": "ZpdlwbOFZy3p"
   },
   "outputs": [],
   "source": [
    "#DRIVE_HOME='/content/drive/My Drive/python/sound/'\n",
    "DRIVE_HOME=''\n",
    "DATA_LOC = 'data/blues.00000.wav'"
   ]
  },
  {
   "cell_type": "code",
   "execution_count": 5,
   "metadata": {
    "ExecuteTime": {
     "end_time": "2021-03-30T02:26:58.141262Z",
     "start_time": "2021-03-30T02:26:57.855470Z"
    },
    "colab": {
     "base_uri": "https://localhost:8080/"
    },
    "executionInfo": {
     "elapsed": 1460,
     "status": "ok",
     "timestamp": 1613969696924,
     "user": {
      "displayName": "조한별",
      "photoUrl": "",
      "userId": "13719229561479595538"
     },
     "user_tz": -540
    },
    "id": "37qdhNjgZ6ve",
    "outputId": "bc876cac-d10b-44b7-df01-ed3b0c7f8193"
   },
   "outputs": [
    {
     "ename": "ModuleNotFoundError",
     "evalue": "No module named 'google.colab'",
     "output_type": "error",
     "traceback": [
      "\u001b[0;31m---------------------------------------------------------------------------\u001b[0m",
      "\u001b[0;31mModuleNotFoundError\u001b[0m                       Traceback (most recent call last)",
      "\u001b[0;32m<ipython-input-5-91874b305a32>\u001b[0m in \u001b[0;36m<module>\u001b[0;34m\u001b[0m\n\u001b[0;32m----> 1\u001b[0;31m \u001b[0;32mfrom\u001b[0m \u001b[0mgoogle\u001b[0m\u001b[0;34m.\u001b[0m\u001b[0mcolab\u001b[0m \u001b[0;32mimport\u001b[0m \u001b[0mdrive\u001b[0m\u001b[0;34m\u001b[0m\u001b[0;34m\u001b[0m\u001b[0m\n\u001b[0m\u001b[1;32m      2\u001b[0m \u001b[0mdrive\u001b[0m\u001b[0;34m.\u001b[0m\u001b[0mmount\u001b[0m\u001b[0;34m(\u001b[0m\u001b[0;34m'/content/drive/'\u001b[0m\u001b[0;34m)\u001b[0m\u001b[0;34m\u001b[0m\u001b[0;34m\u001b[0m\u001b[0m\n",
      "\u001b[0;31mModuleNotFoundError\u001b[0m: No module named 'google.colab'"
     ]
    }
   ],
   "source": [
    "from google.colab import drive\n",
    "drive.mount('/content/drive/')"
   ]
  },
  {
   "cell_type": "markdown",
   "metadata": {
    "id": "5ZwLdPINH3u6"
   },
   "source": [
    "## Load "
   ]
  },
  {
   "cell_type": "markdown",
   "metadata": {
    "id": "zs2v-St0Hvr9"
   },
   "source": [
    "### load sound files"
   ]
  },
  {
   "cell_type": "code",
   "execution_count": 6,
   "metadata": {
    "ExecuteTime": {
     "end_time": "2021-03-30T02:27:02.672996Z",
     "start_time": "2021-03-30T02:27:02.668738Z"
    },
    "executionInfo": {
     "elapsed": 1089,
     "status": "ok",
     "timestamp": 1613969702547,
     "user": {
      "displayName": "조한별",
      "photoUrl": "",
      "userId": "13719229561479595538"
     },
     "user_tz": -540
    },
    "id": "rpVO2YB-aPwO"
   },
   "outputs": [],
   "source": [
    "def log_specgram(audio, sample_rate, window_size=20,\n",
    "                 step_size=10, eps=1e-10):\n",
    "    nperseg = int(round(window_size * sample_rate / 1e3))\n",
    "    noverlap = int(round(step_size * sample_rate / 1e3))\n",
    "    freqs, _, spec = signal.spectrogram(audio,\n",
    "                                    fs=sample_rate,\n",
    "                                    window='hann',\n",
    "                                    nperseg=nperseg,\n",
    "                                    noverlap=noverlap,\n",
    "                                    detrend=False)\n",
    "    return freqs, np.log(spec.T.astype(np.float32) + eps)"
   ]
  },
  {
   "cell_type": "code",
   "execution_count": 7,
   "metadata": {
    "ExecuteTime": {
     "end_time": "2021-03-30T02:27:03.524541Z",
     "start_time": "2021-03-30T02:27:02.874392Z"
    },
    "colab": {
     "base_uri": "https://localhost:8080/",
     "height": 575
    },
    "executionInfo": {
     "elapsed": 2231,
     "status": "ok",
     "timestamp": 1613969705383,
     "user": {
      "displayName": "조한별",
      "photoUrl": "",
      "userId": "13719229561479595538"
     },
     "user_tz": -540
    },
    "id": "BDcyK8a3afNQ",
    "outputId": "6e20fde7-c94e-4a90-ee41-ad967bd90567"
   },
   "outputs": [
    {
     "data": {
      "text/plain": [
       "<AxesSubplot:>"
      ]
     },
     "execution_count": 7,
     "metadata": {},
     "output_type": "execute_result"
    },
    {
     "data": {
      "text/plain": [
       "<matplotlib.image.AxesImage at 0x1387b17f0>"
      ]
     },
     "execution_count": 7,
     "metadata": {},
     "output_type": "execute_result"
    },
    {
     "data": {
      "text/plain": [
       "[<matplotlib.lines.Line2D at 0x1387b1ac8>]"
      ]
     },
     "execution_count": 7,
     "metadata": {},
     "output_type": "execute_result"
    },
    {
     "data": {
      "text/plain": [
       "(-0.5, 694882.675, -30360.25, 31839.25)"
      ]
     },
     "execution_count": 7,
     "metadata": {},
     "output_type": "execute_result"
    },
    {
     "data": {
      "image/png": "[encoded data removed]",
      "text/plain": [
       "<Figure size 720x720 with 1 Axes>"
      ]
     },
     "metadata": {
      "needs_background": "light"
     },
     "output_type": "display_data"
    }
   ],
   "source": [
    "fig = plt.figure(figsize=(10,10))\n",
    "\n",
    "plt.subplot()\n",
    "\n",
    "\n",
    "# create spectogram\n",
    "## read wave\n",
    "samplerate, test_sound  = wavfile.read(DRIVE_HOME+DATA_LOC)\n",
    "_, spectrogram = log_specgram(test_sound, samplerate)\n",
    "\n",
    "plt.imshow(spectrogram.T, aspect='auto', origin='lower')\n",
    "\n",
    "plt.plot(test_sound)\n",
    "\n",
    "plt.axis('off')\n",
    "plt.gray()"
   ]
  },
  {
   "cell_type": "markdown",
   "metadata": {
    "id": "Cvjn_FnvH9_m"
   },
   "source": [
    "### file info"
   ]
  },
  {
   "cell_type": "code",
   "execution_count": 8,
   "metadata": {
    "ExecuteTime": {
     "end_time": "2021-03-30T02:27:05.739545Z",
     "start_time": "2021-03-30T02:27:05.597591Z"
    },
    "colab": {
     "base_uri": "https://localhost:8080/"
    },
    "executionInfo": {
     "elapsed": 1759,
     "status": "ok",
     "timestamp": 1613969707081,
     "user": {
      "displayName": "조한별",
      "photoUrl": "",
      "userId": "13719229561479595538"
     },
     "user_tz": -540
    },
    "id": "9wkyvOuMbAEQ",
    "outputId": "aad27c60-be8e-407b-8825-54ace3225a59"
   },
   "outputs": [
    {
     "name": "stdout",
     "output_type": "stream",
     "text": [
      "[ 240  544  250 -115  -74]\n",
      "661794\n",
      "22059.8\n",
      "1.0027181818181818\n",
      "813 , pow : 660969\n",
      "max :  29012 , min :  -27533\n"
     ]
    }
   ],
   "source": [
    "print(test_sound[:5])\n",
    "print(len(test_sound))\n",
    "print(len(test_sound)/30)\n",
    "print(len(test_sound)/30/22000)\n",
    "\n",
    "from math import sqrt, pow\n",
    "\n",
    "\n",
    "## dimentionss\n",
    "DIMEN_N = int(round(sqrt(len(test_sound)),0)-1) ; DIMEN_N_2 = DIMEN_N**2\n",
    "print(DIMEN_N, ', pow :', DIMEN_N_2)\n",
    "print('max : ', max(test_sound), ', min : ', min(test_sound))\n"
   ]
  },
  {
   "cell_type": "markdown",
   "metadata": {
    "id": "mCJHLB6rICeU"
   },
   "source": [
    "### reshape np array"
   ]
  },
  {
   "cell_type": "code",
   "execution_count": 9,
   "metadata": {
    "ExecuteTime": {
     "end_time": "2021-03-30T02:27:07.835483Z",
     "start_time": "2021-03-30T02:27:07.824622Z"
    },
    "colab": {
     "base_uri": "https://localhost:8080/"
    },
    "executionInfo": {
     "elapsed": 1161,
     "status": "ok",
     "timestamp": 1613969707082,
     "user": {
      "displayName": "조한별",
      "photoUrl": "",
      "userId": "13719229561479595538"
     },
     "user_tz": -540
    },
    "id": "DrJQ9IJVK87e",
    "outputId": "2bba9d6b-f86d-49b0-ed67-2bcf69fc4fe2"
   },
   "outputs": [
    {
     "name": "stdout",
     "output_type": "stream",
     "text": [
      "660969\n"
     ]
    },
    {
     "data": {
      "text/plain": [
       "(813, 813)"
      ]
     },
     "execution_count": 9,
     "metadata": {},
     "output_type": "execute_result"
    }
   ],
   "source": [
    "## reshape\n",
    "print(len(test_sound[0:DIMEN_N_2]))\n",
    "test_sound_2d = test_sound[:DIMEN_N_2].reshape((DIMEN_N,DIMEN_N), order='F')\n",
    "test_sound_2d.shape"
   ]
  },
  {
   "cell_type": "markdown",
   "metadata": {
    "id": "JV0ZhrgzIHWx"
   },
   "source": [
    "### normalization"
   ]
  },
  {
   "cell_type": "code",
   "execution_count": 53,
   "metadata": {
    "ExecuteTime": {
     "end_time": "2021-03-15T08:12:15.697620Z",
     "start_time": "2021-03-15T08:12:15.690930Z"
    }
   },
   "outputs": [
    {
     "name": "stdout",
     "output_type": "stream",
     "text": [
      "29012 -27533\n",
      "-27533 29012\n"
     ]
    }
   ],
   "source": [
    "## normalization \n",
    "##############\n",
    "#from sklearn.preprocessing import MinMaxScaler\n",
    "\n",
    "#scaler = MinMaxScaler()\n",
    "#test_sound_2d_norm = scaler.fit_transform(test_sound_2d) * 255\n",
    "#test_sound_2d_norm = test_sound_2d_norm.astype(int)\n",
    "#test_sound_2d_norm\n",
    "##############\n",
    "\n",
    "print(np.max(test_sound_2d), np.min(test_sound_2d))\n",
    "min_val, max_val = np.min(test_sound_2d).astype(np.int32), np.max(test_sound_2d).astype(np.int32)\n",
    "\n",
    "print(min_val, max_val );"
   ]
  },
  {
   "cell_type": "code",
   "execution_count": 54,
   "metadata": {
    "ExecuteTime": {
     "end_time": "2021-03-15T08:12:17.943981Z",
     "start_time": "2021-03-15T08:12:17.939945Z"
    }
   },
   "outputs": [
    {
     "data": {
      "text/plain": [
       "56545"
      ]
     },
     "execution_count": 54,
     "metadata": {},
     "output_type": "execute_result"
    }
   ],
   "source": [
    "max_val - min_val"
   ]
  },
  {
   "cell_type": "code",
   "execution_count": 61,
   "metadata": {
    "ExecuteTime": {
     "end_time": "2021-03-15T08:13:54.931493Z",
     "start_time": "2021-03-15T08:13:54.918059Z"
    },
    "id": "POZzvcvZKco1"
   },
   "outputs": [
    {
     "name": "stdout",
     "output_type": "stream",
     "text": [
      "[[ 27773  27527  27471 ...  23939 -32524  23050]\n",
      " [ 28077  27183  27231 ...  25958 -31991  22032]\n",
      " [ 27783  26895  26942 ...  25981 -31542  21791]\n",
      " ...\n",
      " [ 27706  28570  31835 ... -30673  27910  30863]\n",
      " [ 27418  27969  31770 ... -31370  27062  30350]\n",
      " [ 27433  27518  30934 ... -32337  25026  29404]]\n"
     ]
    },
    {
     "data": {
      "text/plain": [
       "array([[ 125,  124,  123, ...,  107, -146,  103],\n",
       "       [ 126,  122,  122, ...,  117, -144,   99],\n",
       "       [ 125,  121,  121, ...,  117, -142,   98],\n",
       "       ...,\n",
       "       [ 124,  128,  143, ..., -138,  125,  139],\n",
       "       [ 123,  126,  143, ..., -141,  122,  136],\n",
       "       [ 123,  124,  139, ..., -145,  112,  132]])"
      ]
     },
     "execution_count": 61,
     "metadata": {},
     "output_type": "execute_result"
    },
    {
     "name": "stdout",
     "output_type": "stream",
     "text": [
      "min_val :  -147 \t max_val :  147\n"
     ]
    }
   ],
   "source": [
    "## normalization \n",
    "print(test_sound_2d - min_val)\n",
    "### max_val - min_val ??? \n",
    "\n",
    "\n",
    "test_sound_2d_norm = ((test_sound_2d - min_val) / (max_val - min_val) * 255).astype(int)\n",
    "test_sound_2d_norm\n",
    "print('min_val : ', np.min(test_sound_2d_norm), '\\t max_val : ', np.max(test_sound_2d_norm))"
   ]
  },
  {
   "cell_type": "markdown",
   "metadata": {
    "id": "H5dpl7pYNPx5"
   },
   "source": [
    "## D.N.S"
   ]
  },
  {
   "cell_type": "code",
   "execution_count": 91,
   "metadata": {
    "colab": {
     "base_uri": "https://localhost:8080/"
    },
    "executionInfo": {
     "elapsed": 716,
     "status": "ok",
     "timestamp": 1613970334485,
     "user": {
      "displayName": "조한별",
      "photoUrl": "",
      "userId": "13719229561479595538"
     },
     "user_tz": -540
    },
    "id": "6SZscUE-PTXD",
    "outputId": "110fad00-50e9-4252-ba90-4bfbed9fe58b"
   },
   "outputs": [
    {
     "data": {
      "text/plain": [
       "576"
      ]
     },
     "execution_count": 91,
     "metadata": {
      "tags": []
     },
     "output_type": "execute_result"
    }
   ],
   "source": [
    "24*24 ## feature matrix shape"
   ]
  },
  {
   "cell_type": "markdown",
   "metadata": {
    "id": "YMEWRgK0IPOj"
   },
   "source": [
    "### define functions"
   ]
  },
  {
   "cell_type": "code",
   "execution_count": 62,
   "metadata": {
    "ExecuteTime": {
     "end_time": "2021-03-15T08:14:25.116097Z",
     "start_time": "2021-03-15T08:14:25.112752Z"
    },
    "executionInfo": {
     "elapsed": 629,
     "status": "ok",
     "timestamp": 1613970780547,
     "user": {
      "displayName": "조한별",
      "photoUrl": "",
      "userId": "13719229561479595538"
     },
     "user_tz": -540
    },
    "id": "ugw6Y6F1J49x"
   },
   "outputs": [],
   "source": [
    "# define parameters ::: window size\n",
    "SEARCH_SIZE = 21\n",
    "NEIGHBOR_SIZE = 13"
   ]
  },
  {
   "cell_type": "code",
   "execution_count": 63,
   "metadata": {
    "ExecuteTime": {
     "end_time": "2021-03-15T08:14:26.243224Z",
     "start_time": "2021-03-15T08:14:26.228712Z"
    },
    "executionInfo": {
     "elapsed": 579,
     "status": "ok",
     "timestamp": 1613970406243,
     "user": {
      "displayName": "조한별",
      "photoUrl": "",
      "userId": "13719229561479595538"
     },
     "user_tz": -540
    },
    "id": "RDlLTCkfaG4J"
   },
   "outputs": [
    {
     "name": "stdout",
     "output_type": "stream",
     "text": [
      "CPU times: user 473 µs, sys: 48 µs, total: 521 µs\n",
      "Wall time: 526 µs\n"
     ]
    }
   ],
   "source": [
    "def get_pages(nd_array=test_sound_2d_norm, search_size=SEARCH_SIZE, neighbor_size=NEIGHBOR_SIZE) : \n",
    "    '''\n",
    "    전체 matrix를 계산할 sub-matrix 로 분할하여 그 리스트를 return 하는 함수\n",
    "    '''\n",
    "    ND_LIST = []\n",
    "    ## calcluate n*n 의 갯수\n",
    "    size_x, size_y = test_sound_2d.shape\n",
    "    div_ = search_size + neighbor_size - 1\n",
    "    ind_x, ind_y = size_x // div_, size_y // div_\n",
    "    cent_p = (div_ -1, div_ -1)\n",
    "\n",
    "    ## slicing\n",
    "    for i in range(ind_x) : \n",
    "        for j in range(ind_y) : \n",
    "            ND_LIST.append(test_sound_2d_norm[i*div_:(i+1)*div_,j*div_:(j+1)*div_])\n",
    "    \n",
    "    #print(len(ND_LIST))\n",
    "    return ND_LIST    \n",
    "\n",
    "%time ND_LIST = get_pages()"
   ]
  },
  {
   "cell_type": "code",
   "execution_count": 66,
   "metadata": {
    "ExecuteTime": {
     "end_time": "2021-03-15T08:14:47.951678Z",
     "start_time": "2021-03-15T08:14:47.940641Z"
    },
    "colab": {
     "base_uri": "https://localhost:8080/"
    },
    "executionInfo": {
     "elapsed": 610,
     "status": "ok",
     "timestamp": 1613970413734,
     "user": {
      "displayName": "조한별",
      "photoUrl": "",
      "userId": "13719229561479595538"
     },
     "user_tz": -540
    },
    "id": "p9mBj4bkWfv-",
    "outputId": "a995f3f6-186e-48e9-869c-be6566f9b229"
   },
   "outputs": [
    {
     "name": "stdout",
     "output_type": "stream",
     "text": [
      "CPU times: user 95 µs, sys: 12 µs, total: 107 µs\n",
      "Wall time: 102 µs\n"
     ]
    },
    {
     "data": {
      "text/plain": [
       "32.1"
      ]
     },
     "execution_count": 66,
     "metadata": {},
     "output_type": "execute_result"
    }
   ],
   "source": [
    "def ed_dist(nd_1, nd_2, round_arg = 1) :\n",
    "    '''\n",
    "    2개의 matrix의 ED distance를 return 하는 함수\n",
    "    round_arg : 소숫점 자리수. default : 1\n",
    "    '''\n",
    "    squarer = lambda t: pow(t,2) \n",
    "    vfunc = np.vectorize(squarer)\n",
    "\n",
    "    temp_nd = (nd_1 - nd_2).reshape(-1) ** 2\n",
    "    return round(math.sqrt(sum(temp_nd)),1)\n",
    "\n",
    "%time ed_dist(ND_LIST[0][0:3,0:3] , ND_LIST[0][4:7,4:7]) ## test"
   ]
  },
  {
   "cell_type": "code",
   "execution_count": 70,
   "metadata": {
    "ExecuteTime": {
     "end_time": "2021-03-15T08:15:36.493167Z",
     "start_time": "2021-03-15T08:15:36.476526Z"
    },
    "executionInfo": {
     "elapsed": 608,
     "status": "ok",
     "timestamp": 1613970430079,
     "user": {
      "displayName": "조한별",
      "photoUrl": "",
      "userId": "13719229561479595538"
     },
     "user_tz": -540
    },
    "id": "W_GBuQHcSiWv"
   },
   "outputs": [],
   "source": [
    "\n",
    "def cal_dns_mat(nd_array=ND_LIST, search_size=SEARCH_SIZE, neighbor_size=NEIGHBOR_SIZE) :\n",
    "    '''\n",
    "    matrix array에 대한 dns 계산하여 np array (SEARCH_SIZE X SEARCH_SIZE X len(ND_LIST)) 를 return\n",
    "    '''\n",
    "\n",
    "    ### cent of matrix position \n",
    "    CENT_P = (search_size//2 + neighbor_size//2, search_size//2 + neighbor_size//2)\n",
    "    \n",
    "    ### result array\n",
    "    result_mat = np.array(np.zeros((search_size,search_size,len(nd_array))))\n",
    "    #print(nd_array[0][CENT_P[0]-(neighbor_size//2):CENT_P[0]+(neighbor_size//2)+1,CENT_P[1]-(neighbor_size//2):CENT_P[1]+(neighbor_size//2)+1].shape)\n",
    "    \n",
    "    ## for phase\n",
    "    for ind_mat, mat_x in enumerate(nd_array) : ## number of nd_array\n",
    "        single_mat = np.zeros((search_size,search_size))\n",
    "        #print('----init....\\n',single_mat, '\\n\\n')\n",
    "        for x in range(search_size) : ## size of x-axis\n",
    "            for y in range(search_size) : ## size of y-axis\n",
    "                ## calculate ED distance\n",
    "                ## update result of matrix\n",
    "                single_mat[x,y] = ed_dist(mat_x[x:x+neighbor_size,y:y+neighbor_size],\n",
    "                                          mat_x[CENT_P[0]-(neighbor_size//2):CENT_P[0]+(neighbor_size//2)+1,CENT_P[1]-(neighbor_size//2):CENT_P[1]+(neighbor_size//2)+1])\n",
    "        #print('----after update....\\n',single_mat, '\\n\\n')\n",
    "        ## update center of matrix as np.zeros\n",
    "        #single_mat[CENT_P,CENT_P] = 0 \n",
    "        \n",
    "        #print('----finally....\\n',single_mat, '\\n\\n')\n",
    "        ## put matrix to final result matrix\n",
    "        result_mat[:,:,ind_mat] = single_mat\n",
    "    ## get a mean value of each cell finally\n",
    "    ##\n",
    "    ##\n",
    "    ## return result matrix\n",
    "    return result_mat\n",
    "\n"
   ]
  },
  {
   "cell_type": "markdown",
   "metadata": {
    "id": "aqbjdfGSIUbQ"
   },
   "source": [
    "### drive code"
   ]
  },
  {
   "cell_type": "code",
   "execution_count": 71,
   "metadata": {
    "ExecuteTime": {
     "end_time": "2021-03-15T08:15:49.814400Z",
     "start_time": "2021-03-15T08:15:37.428962Z"
    },
    "colab": {
     "base_uri": "https://localhost:8080/"
    },
    "executionInfo": {
     "elapsed": 11103,
     "status": "ok",
     "timestamp": 1613970444009,
     "user": {
      "displayName": "조한별",
      "photoUrl": "",
      "userId": "13719229561479595538"
     },
     "user_tz": -540
    },
    "id": "PJzL26jFIWg_",
    "outputId": "c739507f-f0b5-4ae0-824b-91455f82c84c"
   },
   "outputs": [
    {
     "name": "stdout",
     "output_type": "stream",
     "text": [
      "CPU times: user 455 µs, sys: 1e+03 ns, total: 456 µs\n",
      "Wall time: 460 µs\n",
      "CPU times: user 12.1 s, sys: 124 ms, total: 12.3 s\n",
      "Wall time: 12.4 s\n"
     ]
    },
    {
     "data": {
      "text/plain": [
       "(21, 21, 576)"
      ]
     },
     "execution_count": 71,
     "metadata": {},
     "output_type": "execute_result"
    }
   ],
   "source": [
    "%time ND_LIST = get_pages()\n",
    "%time result = cal_dns_mat(ND_LIST)\n",
    "result.shape"
   ]
  },
  {
   "cell_type": "markdown",
   "metadata": {
    "id": "0dfrJTCQIT6C"
   },
   "source": [
    "### plotting"
   ]
  },
  {
   "cell_type": "code",
   "execution_count": 72,
   "metadata": {
    "ExecuteTime": {
     "end_time": "2021-03-15T08:15:50.042762Z",
     "start_time": "2021-03-15T08:15:49.818471Z"
    },
    "colab": {
     "base_uri": "https://localhost:8080/",
     "height": 299
    },
    "executionInfo": {
     "elapsed": 585,
     "status": "ok",
     "timestamp": 1613970813463,
     "user": {
      "displayName": "조한별",
      "photoUrl": "",
      "userId": "13719229561479595538"
     },
     "user_tz": -540
    },
    "id": "Eddnnd9waUBV",
    "outputId": "99ad94fb-4992-4adf-eb23-be3f4e25630f"
   },
   "outputs": [
    {
     "name": "stdout",
     "output_type": "stream",
     "text": [
      "(21, 21)\n"
     ]
    },
    {
     "data": {
      "text/plain": [
       "<matplotlib.image.AxesImage at 0x1467b3da0>"
      ]
     },
     "execution_count": 72,
     "metadata": {},
     "output_type": "execute_result"
    },
    {
     "data": {
      "image/png": "[encoded data removed]",
      "text/plain": [
       "<Figure size 432x288 with 1 Axes>"
      ]
     },
     "metadata": {
      "needs_background": "light"
     },
     "output_type": "display_data"
    }
   ],
   "source": [
    "final_mat = result.mean(axis=2)\n",
    "print(final_mat.shape)\n",
    "plt.imshow(final_mat, cmap='gray')"
   ]
  },
  {
   "cell_type": "markdown",
   "metadata": {
    "id": "GIadR3XPItj8"
   },
   "source": [
    "## CNN ::: T.B.D"
   ]
  },
  {
   "cell_type": "code",
   "execution_count": null,
   "metadata": {
    "id": "s5ZBUpdxI2Tx"
   },
   "outputs": [],
   "source": []
  },
  {
   "cell_type": "markdown",
   "metadata": {
    "id": "-wrw1tGXtCv0"
   },
   "source": [
    "## (참고) STFT\n",
    "    * STFT(Short-Time Fourier Transform)는 주파수 특성이 시간이 따라 달라지는 사운드를 분석하기 위한 방법이다. \n",
    "    * 시계열을 일정한 시간 구간으로 나누고 각 구간에 대해 스펙트럼을 구한 데이터이다. \n",
    "    * 시간-주파수의 2차원 데이터로 나타난다."
   ]
  },
  {
   "cell_type": "code",
   "execution_count": null,
   "metadata": {
    "colab": {
     "base_uri": "https://localhost:8080/",
     "height": 164
    },
    "executionInfo": {
     "elapsed": 488,
     "status": "error",
     "timestamp": 1613969948926,
     "user": {
      "displayName": "조한별",
      "photoUrl": "",
      "userId": "13719229561479595538"
     },
     "user_tz": -540
    },
    "id": "Qf_6A6c2uaL3",
    "outputId": "38cc670d-4c83-4871-a8c9-c3c379aaa140"
   },
   "outputs": [
    {
     "ename": "NameError",
     "evalue": "ignored",
     "output_type": "error",
     "traceback": [
      "\u001b[0;31m---------------------------------------------------------------------------\u001b[0m",
      "\u001b[0;31mNameError\u001b[0m                                 Traceback (most recent call last)",
      "\u001b[0;32m<ipython-input-86-1e762a8a8f6c>\u001b[0m in \u001b[0;36m<module>\u001b[0;34m()\u001b[0m\n\u001b[0;32m----> 1\u001b[0;31m \u001b[0mprint\u001b[0m\u001b[0;34m(\u001b[0m\u001b[0mnp_sound\u001b[0m\u001b[0;34m)\u001b[0m\u001b[0;34m\u001b[0m\u001b[0;34m\u001b[0m\u001b[0m\n\u001b[0m",
      "\u001b[0;31mNameError\u001b[0m: name 'np_sound' is not defined"
     ]
    }
   ],
   "source": [
    "print(np_sound)"
   ]
  },
  {
   "cell_type": "code",
   "execution_count": null,
   "metadata": {
    "colab": {
     "base_uri": "https://localhost:8080/",
     "height": 232
    },
    "executionInfo": {
     "elapsed": 759,
     "status": "error",
     "timestamp": 1613969949205,
     "user": {
      "displayName": "조한별",
      "photoUrl": "",
      "userId": "13719229561479595538"
     },
     "user_tz": -540
    },
    "id": "XuNtLYFDbqXE",
    "outputId": "adb6d462-13e6-4396-c395-2bafe92e9e7c"
   },
   "outputs": [
    {
     "ename": "NameError",
     "evalue": "ignored",
     "output_type": "error",
     "traceback": [
      "\u001b[0;31m---------------------------------------------------------------------------\u001b[0m",
      "\u001b[0;31mNameError\u001b[0m                                 Traceback (most recent call last)",
      "\u001b[0;32m<ipython-input-87-1a5c14e35a69>\u001b[0m in \u001b[0;36m<module>\u001b[0;34m()\u001b[0m\n\u001b[1;32m      1\u001b[0m \u001b[0;31m# iopub_data_rate_limit 설정을 10000000 정도로 크게 해야 한다.\u001b[0m\u001b[0;34m\u001b[0m\u001b[0;34m\u001b[0m\u001b[0;34m\u001b[0m\u001b[0m\n\u001b[0;32m----> 2\u001b[0;31m \u001b[0mD\u001b[0m \u001b[0;34m=\u001b[0m \u001b[0mnp\u001b[0m\u001b[0;34m.\u001b[0m\u001b[0mabs\u001b[0m\u001b[0;34m(\u001b[0m\u001b[0mlibrosa\u001b[0m\u001b[0;34m.\u001b[0m\u001b[0mstft\u001b[0m\u001b[0;34m(\u001b[0m\u001b[0mnp_sound\u001b[0m\u001b[0;34m)\u001b[0m\u001b[0;34m)\u001b[0m\u001b[0;34m\u001b[0m\u001b[0;34m\u001b[0m\u001b[0m\n\u001b[0m\u001b[1;32m      3\u001b[0m \u001b[0mlibrosa\u001b[0m\u001b[0;34m.\u001b[0m\u001b[0mdisplay\u001b[0m\u001b[0;34m.\u001b[0m\u001b[0mspecshow\u001b[0m\u001b[0;34m(\u001b[0m\u001b[0mlibrosa\u001b[0m\u001b[0;34m.\u001b[0m\u001b[0mamplitude_to_db\u001b[0m\u001b[0;34m(\u001b[0m\u001b[0mD\u001b[0m\u001b[0;34m,\u001b[0m \u001b[0mref\u001b[0m\u001b[0;34m=\u001b[0m\u001b[0mnp\u001b[0m\u001b[0;34m.\u001b[0m\u001b[0mmax\u001b[0m\u001b[0;34m,\u001b[0m \u001b[0;34m)\u001b[0m\u001b[0;34m,\u001b[0m \u001b[0my_axis\u001b[0m\u001b[0;34m=\u001b[0m\u001b[0;34m'linear'\u001b[0m\u001b[0;34m,\u001b[0m \u001b[0mx_axis\u001b[0m\u001b[0;34m=\u001b[0m\u001b[0;34m'time'\u001b[0m\u001b[0;34m)\u001b[0m\u001b[0;34m\u001b[0m\u001b[0;34m\u001b[0m\u001b[0m\n\u001b[1;32m      4\u001b[0m \u001b[0mplt\u001b[0m\u001b[0;34m.\u001b[0m\u001b[0mtitle\u001b[0m\u001b[0;34m(\u001b[0m\u001b[0;34m'Dual Tone'\u001b[0m\u001b[0;34m)\u001b[0m\u001b[0;34m\u001b[0m\u001b[0;34m\u001b[0m\u001b[0m\n\u001b[1;32m      5\u001b[0m \u001b[0mplt\u001b[0m\u001b[0;34m.\u001b[0m\u001b[0mylim\u001b[0m\u001b[0;34m(\u001b[0m\u001b[0;36m0\u001b[0m\u001b[0;34m,\u001b[0m \u001b[0;36m4000\u001b[0m\u001b[0;34m)\u001b[0m\u001b[0;34m\u001b[0m\u001b[0;34m\u001b[0m\u001b[0m\n",
      "\u001b[0;31mNameError\u001b[0m: name 'np_sound' is not defined"
     ]
    }
   ],
   "source": [
    "# iopub_data_rate_limit 설정을 10000000 정도로 크게 해야 한다.\n",
    "D = np.abs(librosa.stft(np_sound))\n",
    "librosa.display.specshow(librosa.amplitude_to_db(D, ref=np.max, ), y_axis='linear', x_axis='time')\n",
    "plt.title('Dual Tone')\n",
    "plt.ylim(0, 4000)\n",
    "plt.show()"
   ]
  },
  {
   "cell_type": "code",
   "execution_count": null,
   "metadata": {
    "id": "fhn2E6YUxFFK"
   },
   "outputs": [],
   "source": [
    "librosa.display.specshow(librosa.amplitude_to_db(test_sound_2d_norm, ref=np.max), y_axis='linear', x_axis='time')\n",
    "plt.ylim(0, 260)\n",
    "plt.gray()\n",
    "plt.show()"
   ]
  },
  {
   "cell_type": "code",
   "execution_count": null,
   "metadata": {
    "id": "neuSHzKPxM66"
   },
   "outputs": [],
   "source": [
    "print(test_sound_2d_norm.shape)\n",
    "print(test_sound_2d_norm.min(), test_sound_2d_norm.max())"
   ]
  }
 ],
 "metadata": {
  "colab": {
   "authorship_tag": "ABX9TyO664qyMWhDBrWR3EwI/z/D",
   "collapsed_sections": [
    "-wrw1tGXtCv0"
   ],
   "name": "sound.ipynb",
   "provenance": [],
   "toc_visible": true
  },
  "kernelspec": {
   "display_name": "Python 3",
   "language": "python",
   "name": "python3"
  },
  "language_info": {
   "codemirror_mode": {
    "name": "ipython",
    "version": 3
   },
   "file_extension": ".py",
   "mimetype": "text/x-python",
   "name": "python",
   "nbconvert_exporter": "python",
   "pygments_lexer": "ipython3",
   "version": "3.6.9"
  },
  "toc": {
   "base_numbering": 1,
   "nav_menu": {},
   "number_sections": true,
   "sideBar": true,
   "skip_h1_title": false,
   "title_cell": "Table of Contents",
   "title_sidebar": "Contents",
   "toc_cell": false,
   "toc_position": {},
   "toc_section_display": true,
   "toc_window_display": false
  }
 },
 "nbformat": 4,
 "nbformat_minor": 1
}
